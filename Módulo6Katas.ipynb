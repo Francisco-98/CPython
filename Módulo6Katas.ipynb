{
 "cells": [
  {
   "cell_type": "markdown",
   "metadata": {},
   "source": [
    "# Kata 6 "
   ]
  },
  {
   "cell_type": "code",
   "execution_count": 6,
   "metadata": {},
   "outputs": [
    {
     "name": "stdout",
     "output_type": "stream",
     "text": [
      "Hay 8 planetas\n",
      "Se agrego un nuevo planeta, por lo cual ahora hay 9 planetas\n",
      "El último planeta es: plutón\n"
     ]
    }
   ],
   "source": [
    "# Ejercicio 1\n",
    "# lista de planetas\n",
    "planets = ['Mercurio', 'Venus', 'Tierra', 'Marte', 'Jupiter', 'Saturno', 'Urano', 'Neptuno']\n",
    "# Mostrar el número de planetas\n",
    "print('Hay', len(planets), 'planetas')\n",
    "# Agregamos un planeta\n",
    "planets.append('plutón')\n",
    "# Mostramos el último planeta y el contador de planetas actualizado\n",
    "print('Se agrego un nuevo planeta, por lo cual ahora hay', len(planets), 'planetas')\n",
    "print('El último planeta es:', planets[-1])"
   ]
  },
  {
   "cell_type": "code",
   "execution_count": 13,
   "metadata": {},
   "outputs": [
    {
     "name": "stdout",
     "output_type": "stream",
     "text": [
      "El planeta que agrego el usuario es: Ares\n",
      "Los planetas más cercanos son: \n",
      "['Mercury', 'Venus', 'Earth', 'Mars', 'Jupiter', 'Saturn', 'Neptune']\n",
      "Los planetas más lejanos son: \n",
      "['Kepler', 'Kepler18x']\n"
     ]
    }
   ],
   "source": [
    "# Ejercicio 2\n",
    "# Lista de planetas\n",
    "planets = ['Mercury', 'Venus', 'Earth', 'Mars', 'Jupiter', 'Saturn', 'Neptune']\n",
    "# Solicitud al usuario\n",
    "new_planet = input('Ingresa un planeta empezando con Mayuscula: ')\n",
    "# Buscamos el planeta agregado\n",
    "planets.append(new_planet)\n",
    "planet_index = planets.index(new_planet)\n",
    "# Agregamos planetas depsues del solicitado\n",
    "planets.append('Kepler')\n",
    "planets.append('Kepler18x')\n",
    "# mostramos el planeta que el usuario agrego\n",
    "print('El planeta que agrego el usuario es: ' + planets[planet_index])\n",
    "# Planetas más cercanos al sol\n",
    "print('Los planetas más cercanos son: ')\n",
    "print(planets[0:planet_index])\n",
    "# Planetas más lejanos al sol\n",
    "print('Los planetas más lejanos son: ')\n",
    "print(planets[planet_index + 1: ])"
   ]
  }
 ],
 "metadata": {
  "interpreter": {
   "hash": "230cb2b7102e0dde349b748b58287ccaa8ab1c6a2d1c6cbf6d19f14c344fa4a7"
  },
  "kernelspec": {
   "display_name": "Python 3.8.10 ('base')",
   "language": "python",
   "name": "python3"
  },
  "language_info": {
   "codemirror_mode": {
    "name": "ipython",
    "version": 3
   },
   "file_extension": ".py",
   "mimetype": "text/x-python",
   "name": "python",
   "nbconvert_exporter": "python",
   "pygments_lexer": "ipython3",
   "version": "3.8.10"
  },
  "orig_nbformat": 4
 },
 "nbformat": 4,
 "nbformat_minor": 2
}
