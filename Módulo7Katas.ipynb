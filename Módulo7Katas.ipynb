{
 "cells": [
  {
   "cell_type": "code",
   "execution_count": 14,
   "metadata": {},
   "outputs": [],
   "source": [
    "# Ejercicio 1\n",
    "# Creamos la variable para solicitar al usuario\n",
    "new_planet = ''\n",
    "# Creamos la variable para almacenar la lista\n",
    "planets = []\n",
    "# Creamos el ciclo while\n",
    "while new_planet.lower() != 'done':\n",
    "    # Verificamos si hay un valor\n",
    "    if new_planet:\n",
    "        # Agregamos a la lista \n",
    "        planets.append(new_planet)\n",
    "    # Solicitamos al usuario que ingrese los planetas\n",
    "    new_planet = input('Ingresa el planeta')\n"
   ]
  },
  {
   "cell_type": "code",
   "execution_count": 15,
   "metadata": {},
   "outputs": [
    {
     "name": "stdout",
     "output_type": "stream",
     "text": [
      "Los planetas son: \n",
      "Mercurio\n",
      "Venus\n",
      "Tierra\n",
      "marte\n",
      "Jupiter\n",
      "Saturno\n",
      "Urano\n"
     ]
    }
   ],
   "source": [
    "# Ejercicio 2\n",
    "# Importamos la clse sleep\n",
    "from time import sleep\n",
    "# Creamos ciclo for para mostrar los planetas\n",
    "print('Los planetas son: ')\n",
    "for planeta in planets:\n",
    "    print(planeta)\n",
    "    # Espera 1 segundo\n",
    "    sleep(1) "
   ]
  }
 ],
 "metadata": {
  "interpreter": {
   "hash": "230cb2b7102e0dde349b748b58287ccaa8ab1c6a2d1c6cbf6d19f14c344fa4a7"
  },
  "kernelspec": {
   "display_name": "Python 3.8.10 ('base')",
   "language": "python",
   "name": "python3"
  },
  "language_info": {
   "codemirror_mode": {
    "name": "ipython",
    "version": 3
   },
   "file_extension": ".py",
   "mimetype": "text/x-python",
   "name": "python",
   "nbconvert_exporter": "python",
   "pygments_lexer": "ipython3",
   "version": "3.8.10"
  },
  "orig_nbformat": 4
 },
 "nbformat": 4,
 "nbformat_minor": 2
}
