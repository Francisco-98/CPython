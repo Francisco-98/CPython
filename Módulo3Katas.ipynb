{
 "cells": [
  {
   "cell_type": "markdown",
   "metadata": {},
   "source": [
    "# Ejemplos"
   ]
  },
  {
   "cell_type": "code",
   "execution_count": 2,
   "metadata": {},
   "outputs": [
    {
     "name": "stdout",
     "output_type": "stream",
     "text": [
      "44\n"
     ]
    }
   ],
   "source": [
    "# Declaramos las variables\n",
    "a = 24\n",
    "b = 44\n",
    "# Hacemos una condición\n",
    "if a <= 0:\n",
    "    # Si la condición es verdadera mostramos el resultado\n",
    "    print(a)\n",
    "# Mostramos el resultado si no es correcta la condición \n",
    "print(b)"
   ]
  },
  {
   "cell_type": "markdown",
   "metadata": {},
   "source": [
    "# Else"
   ]
  },
  {
   "cell_type": "code",
   "execution_count": 5,
   "metadata": {},
   "outputs": [
    {
     "name": "stdout",
     "output_type": "stream",
     "text": [
      "27\n"
     ]
    }
   ],
   "source": [
    "# Declaramos variables\n",
    "a = 93\n",
    "b = 27\n",
    "# Realizamos la condición\n",
    "if b >= a:\n",
    "    # Imprimimos si la condición es correcta\n",
    "    print(a)\n",
    "# Si la condición no se cumple muestra otro resultado\n",
    "else:\n",
    "    print(b)"
   ]
  },
  {
   "cell_type": "markdown",
   "metadata": {},
   "source": [
    "# elif"
   ]
  },
  {
   "cell_type": "code",
   "execution_count": 10,
   "metadata": {},
   "outputs": [
    {
     "name": "stdout",
     "output_type": "stream",
     "text": [
      "a es mayor o igual que b\n"
     ]
    }
   ],
   "source": [
    "# Declaramos variables\n",
    "a = 93\n",
    "b = 27\n",
    "# Realizamos la condición\n",
    "if a >= b:\n",
    "    # Imprimimos si la condición es correcta\n",
    "    print(\"a es mayor o igual que b\")\n",
    "# Agregamos otra condición con elif\n",
    "elif a == b:\n",
    "    print(\"a es igual que b\")"
   ]
  },
  {
   "cell_type": "markdown",
   "metadata": {},
   "source": [
    "# if, elif, else"
   ]
  },
  {
   "cell_type": "code",
   "execution_count": 12,
   "metadata": {},
   "outputs": [
    {
     "name": "stdout",
     "output_type": "stream",
     "text": [
      "a es igual que b\n"
     ]
    }
   ],
   "source": [
    "# Declaramos variables\n",
    "a = 27\n",
    "b = 27\n",
    "# Iniciamos la condición\n",
    "if a > b:\n",
    "    # Imprimimos si la condición es correcta \n",
    "    print(\"a es mayor que b\")\n",
    "# Si la condicipon no se cumple ralizamos otra condición\n",
    "elif a < b:\n",
    "    print(\"a es menor que b\")\n",
    "# Cerramos las condiciones y mostramos al usuario en caso de que no sea ninguna de las condiciones pasadas\n",
    "else: \n",
    "    print (\"a es igual que b\")"
   ]
  },
  {
   "cell_type": "markdown",
   "metadata": {},
   "source": [
    "# else, if, elif"
   ]
  },
  {
   "cell_type": "code",
   "execution_count": 13,
   "metadata": {},
   "outputs": [
    {
     "name": "stdout",
     "output_type": "stream",
     "text": [
      "a es menor que b\n"
     ]
    }
   ],
   "source": [
    "#Declaramos las variables\n",
    "a = 16\n",
    "b = 25\n",
    "c = 27\n",
    "#Iniciamos la condición\n",
    "if a > b:\n",
    "    # Anidamos una condición, \"si a es mayor a b y b es mayor a c mostramos una leyenda\"\n",
    "    if b > c:\n",
    "        print (\"a es mayor que b y b es mayor que c\")\n",
    "    # Si no se cumple la condición imprimimos y sale del if anidado\n",
    "    else: \n",
    "        print (\"a es mayor que b y menor que c\")\n",
    "# Creamos otra condición e imprimimos si es correcta\n",
    "elif a == b:\n",
    "    print (\"a es igual que b\")\n",
    "# Finalizamos las condiciones e imprimimos en caso de que no sea ninguna de las pasadas consiciones\n",
    "else:\n",
    "    print (\"a es menor que b\")\n",
    "    "
   ]
  },
  {
   "cell_type": "markdown",
   "metadata": {},
   "source": [
    "# and y or"
   ]
  },
  {
   "cell_type": "code",
   "execution_count": 14,
   "metadata": {},
   "outputs": [
    {
     "name": "stdout",
     "output_type": "stream",
     "text": [
      "57\n"
     ]
    }
   ],
   "source": [
    "# Declaramos variables\n",
    "a = 23\n",
    "b = 34\n",
    "# Iniciamos la condición con dos posibles entradas, si a es igual 34 o b es igual a 34\n",
    "if a == 34 or b == 34:\n",
    "    # Si una de las condiciones se cumple imprimos resultado\n",
    "    print(a + b)"
   ]
  },
  {
   "cell_type": "code",
   "execution_count": 15,
   "metadata": {},
   "outputs": [],
   "source": [
    "# Declaramos variable\n",
    "a = 23\n",
    "b = 34\n",
    "# Inicamos condiciones, agregamos dos condiciones si a es igual a 34 y b es igual a 34\n",
    "if a == 34 and b == 34:\n",
    "    # Si las dos condiciones se cumplen imprimimos el resultado\n",
    "    print (a + b)"
   ]
  },
  {
   "cell_type": "markdown",
   "metadata": {},
   "source": [
    "# Ejercicio condiciones if, elif, else"
   ]
  },
  {
   "cell_type": "code",
   "execution_count": 17,
   "metadata": {},
   "outputs": [
    {
     "name": "stdout",
     "output_type": "stream",
     "text": [
      "El asteroide no es una amenza\n"
     ]
    }
   ],
   "source": [
    "# Declaramos la variable\n",
    "asteroide = 49\n",
    "# Iniciamos la condición, si asteroide es igual a 25\n",
    "if asteroide == 25:\n",
    "    # Si la condición se cumple imprimimos\n",
    "    print(\"El asteroide es una amenaza para la tierra\")\n",
    "# Cerramos la condición\n",
    "else:\n",
    "    # Si la condición no se cumple le mostramos al usuario\n",
    "    print(\"El asteroide no es una amenza\")"
   ]
  },
  {
   "cell_type": "code",
   "execution_count": 25,
   "metadata": {},
   "outputs": [
    {
     "name": "stdout",
     "output_type": "stream",
     "text": [
      "No hay asteroides a la vista\n"
     ]
    }
   ],
   "source": [
    "# declaramos la variable y definimos su valor \n",
    "asteroide = 19\n",
    "# Iniciamos condiciones, si asteroide es igual a 20\n",
    "if asteroide == 20: \n",
    "    # Si la condición se cumple le mostramos al usuario\n",
    "    print(\"¡Alerta!, observar el cielo, asteroide en la atmosfera a una distancia de: \" + str(asteroide) + \" Km/s\")\n",
    "# En caso de que no se cumpla, creamos otra condición, si asteroide es mayor a 20\n",
    "elif asteroide > 20:\n",
    "    # Imprimimos si la condición es correcta\n",
    "    print(\"¡Alerta!, observar el cielo, asteroide en la atmosfera a una distancia de: \" + str(asteroide) + \" Km/s\")\n",
    "# Si no es ninguna de las condiciones anteriore imprimimos al usuario\n",
    "else:\n",
    "    print(\"No hay asteroides a la vista\")"
   ]
  },
  {
   "cell_type": "markdown",
   "metadata": {},
   "source": [
    "# Ejercicio 2 "
   ]
  },
  {
   "cell_type": "code",
   "execution_count": 44,
   "metadata": {},
   "outputs": [
    {
     "name": "stdout",
     "output_type": "stream",
     "text": [
      "No hay asteroides a la vista\n"
     ]
    }
   ],
   "source": [
    "# Declaramos variable y definimos su valor\n",
    "asteroided = 1\n",
    "asteroidev = 1\n",
    "# Iniciams condiciones, si la velocidad y la dimensión del asteroide es mayor a 25  \n",
    "if asteroidev > 25 and asteroided > 25:\n",
    "    # Si la condición se cumple imprimimos al usuario\n",
    "    print(\"¡Alerta!, un asteroide golpeará la tierra y los daños serán considerables\")\n",
    "# Se crea otra condición en caso de que la condición anterior no se cumpla\n",
    "elif asteroidev >= 20: \n",
    "    print(\"¡Alerta!, observar el cielo, asteroide en la atmosfera\")\n",
    "elif asteroided < 25:\n",
    "    print(\"No hay asteroides a la vista\")\n",
    "# En caso de que no se cunplan las condiciones se imprime lo siguiente\n",
    "else:\n",
    "    print(\"No hay asteroides a la vista\")"
   ]
  }
 ],
 "metadata": {
  "interpreter": {
   "hash": "230cb2b7102e0dde349b748b58287ccaa8ab1c6a2d1c6cbf6d19f14c344fa4a7"
  },
  "kernelspec": {
   "display_name": "Python 3.8.10 32-bit ('base': conda)",
   "language": "python",
   "name": "python3"
  },
  "language_info": {
   "codemirror_mode": {
    "name": "ipython",
    "version": 3
   },
   "file_extension": ".py",
   "mimetype": "text/x-python",
   "name": "python",
   "nbconvert_exporter": "python",
   "pygments_lexer": "ipython3",
   "version": "3.8.10"
  },
  "orig_nbformat": 4
 },
 "nbformat": 4,
 "nbformat_minor": 2
}
