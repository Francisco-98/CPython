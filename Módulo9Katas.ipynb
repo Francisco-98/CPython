{
 "cells": [
  {
   "cell_type": "markdown",
   "metadata": {},
   "source": [
    "# Módulo 7 Kata 7"
   ]
  },
  {
   "cell_type": "code",
   "execution_count": 4,
   "metadata": {},
   "outputs": [
    {
     "data": {
      "text/plain": [
       "'Unable to compute to that destination'"
      ]
     },
     "execution_count": 4,
     "metadata": {},
     "output_type": "execute_result"
    }
   ],
   "source": [
    "def distance_from_earth(destination):\n",
    "    if destination == 'Moon':\n",
    "        return '238,855'\n",
    "    else:\n",
    "        return 'Unable to compute to that destination'\n",
    "\n",
    "distance_from_earth('Saturn')"
   ]
  },
  {
   "cell_type": "code",
   "execution_count": 9,
   "metadata": {},
   "outputs": [
    {
     "data": {
      "text/plain": [
       "133"
      ]
     },
     "execution_count": 9,
     "metadata": {},
     "output_type": "execute_result"
    }
   ],
   "source": [
    "def days_to_complete(distance, speed):\n",
    "    hours = distance/speed\n",
    "    return hours/24\n",
    "\n",
    "round(days_to_complete(238855, 75))"
   ]
  },
  {
   "cell_type": "code",
   "execution_count": 16,
   "metadata": {},
   "outputs": [
    {
     "data": {
      "text/plain": [
       "'Orbit Arrival: Saturday 21:42'"
      ]
     },
     "execution_count": 16,
     "metadata": {},
     "output_type": "execute_result"
    }
   ],
   "source": [
    "from datetime import timedelta, datetime\n",
    "\n",
    "def arrival_time(destination, hours=51):\n",
    "    now = datetime.now()\n",
    "    arrival = now + timedelta(hours=hours)\n",
    "    return arrival.strftime(f'{destination} Arrival: %A %H:%M')\n",
    "\n",
    "arrival_time('Orbit', hours=0.13)\n"
   ]
  },
  {
   "cell_type": "code",
   "execution_count": 21,
   "metadata": {},
   "outputs": [
    {
     "name": "stdout",
     "output_type": "stream",
     "text": [
      "()\n",
      "('one', 'two')\n",
      "(None,)\n"
     ]
    }
   ],
   "source": [
    "def variable_length(*args):\n",
    "    print(args)\n",
    "\n",
    "variable_length()\n",
    "variable_length('one', 'two')\n",
    "variable_length(None)"
   ]
  },
  {
   "cell_type": "code",
   "execution_count": 24,
   "metadata": {},
   "outputs": [
    {
     "data": {
      "text/plain": [
       "'Total time to launch is 1.1 hours'"
      ]
     },
     "execution_count": 24,
     "metadata": {},
     "output_type": "execute_result"
    }
   ],
   "source": [
    "def sequence_time(*args):\n",
    "    total_minutes = sum(args)\n",
    "    if total_minutes < 60:\n",
    "        return f'Total time to launch is {total_minutes} minutes'\n",
    "    else:\n",
    "        return f'Total time to launch is {total_minutes/60} hours'\n",
    "sequence_time(4, 14, 48)"
   ]
  },
  {
   "cell_type": "code",
   "execution_count": 26,
   "metadata": {},
   "outputs": [
    {
     "name": "stdout",
     "output_type": "stream",
     "text": [
      "{'tanks': 1, 'day': 'Wednesday', 'pilots': 3}\n"
     ]
    }
   ],
   "source": [
    "def variable_length(**kwargs):\n",
    "    print(kwargs)\n",
    "variable_length(tanks=1, day='Wednesday', pilots=3)"
   ]
  },
  {
   "cell_type": "code",
   "execution_count": 27,
   "metadata": {},
   "outputs": [
    {
     "name": "stdout",
     "output_type": "stream",
     "text": [
      "3 astronauts assigned for this mission:\n",
      "captain: Neil Armstrong\n",
      "pilot: Buzz Aldrin\n",
      "command_pilot: Michael Collins\n"
     ]
    }
   ],
   "source": [
    "def crew_members(**kwargs):\n",
    "    print(f'{len(kwargs)} astronauts assigned for this mission:')\n",
    "    for title, name in kwargs.items():\n",
    "        print(f'{title}: {name}')\n",
    "crew_members(captain='Neil Armstrong', pilot='Buzz Aldrin', command_pilot='Michael Collins')\n"
   ]
  },
  {
   "cell_type": "code",
   "execution_count": 12,
   "metadata": {},
   "outputs": [
    {
     "name": "stdout",
     "output_type": "stream",
     "text": [
      "Informe de combustible de los 3 tanques:\n",
      "    Promedio de combustible: 53%\n",
      "    Primer tanque: 70%\n",
      "    Segundo tanque: 40%\n",
      "    Tercer tanque: 50% \n",
      "    \n"
     ]
    }
   ],
   "source": [
    "# Ejercicio 1\n",
    "# Creamos la función\n",
    "def combus_ubi(tanque1, tanque2, tanque3):\n",
    "    # Almacenamos el promedio de los tanques\n",
    "    informe = (tanque1 + tanque2 + tanque3) / 3\n",
    "    # Mostramos el informe de combustible\n",
    "    return f\"\"\"Informe de combustible de los 3 tanques:\n",
    "    Promedio de combustible: {round(informe)}%\n",
    "    Primer tanque: {tanque1}%\n",
    "    Segundo tanque: {tanque2}%\n",
    "    Tercer tanque: {tanque3}% \n",
    "    \"\"\"    \n",
    "# Ingresamos los parametros o argumentos d ela función\n",
    "print(combus_ubi(70, 40, 50))"
   ]
  },
  {
   "cell_type": "code",
   "execution_count": 10,
   "metadata": {},
   "outputs": [
    {
     "name": "stdout",
     "output_type": "stream",
     "text": [
      "Se debe recargar combustible\n",
      "------------------------------------------------------\n"
     ]
    },
    {
     "data": {
      "text/plain": [
       "18.333333333333332"
      ]
     },
     "execution_count": 10,
     "metadata": {},
     "output_type": "execute_result"
    }
   ],
   "source": [
    "# Función promedio\n",
    "#Definimos la función\n",
    "def combustible(values):\n",
    "    #Sumamos el total de los argumentos ingresados\n",
    "    total = sum(values)\n",
    "    # Contamos el total de elementos ingresados\n",
    "    total_tanques = len(values)\n",
    "    # Mostramos el resultado\n",
    "    prom = total / total_tanques\n",
    "    # Se hace una condición para hacer una recomendación si el combustible es menor o igual a 25%\n",
    "    if prom >= 0 and prom <= 25:\n",
    "        #Se imprime una leyenda y se hace una separación\n",
    "        print(\"Se debe recargar combustible\\n\" + (\"-\" * 54))\n",
    "    # Se hace una condición para hacer una recomendación si el combustible es mayor a 25% y menor a 50%\n",
    "    elif prom > 25 and prom < 50:\n",
    "        print(\"El combustible tiene menos de la mitad de su capacidad\\n\" + (\"-\" * 54))\n",
    "    # Se hace una condición para hacer una recomendación si el combustible es mayor o igual a 50% y menor o igual a 100$\n",
    "    elif prom >= 50 and prom <= 100:\n",
    "         print(\"Los niveles de combustible son optimos\\n\" + (\"-\" * 54))\n",
    "    # Se muestra una leyenda si las mediciones no son correctas (no estan dentro del rango de 0 a 100)\n",
    "    else: \n",
    "        print(\"Se recomienda revisar los sensores, las mediciones no son correctas\\n\" + (\"-\" * 54))\n",
    "    # regresa el valor del promedio\n",
    "    return prom\n",
    "    \n",
    "#Ingresamos los argumentos de la función\n",
    "combustible([15,10,30])"
   ]
  },
  {
   "cell_type": "code",
   "execution_count": 11,
   "metadata": {},
   "outputs": [
    {
     "name": "stdout",
     "output_type": "stream",
     "text": [
      "Se recomienda revisar los sensores, las mediciones no son correctas\n",
      "------------------------------------------------------\n",
      "Informe de la capacidad de los tanques:\n",
      "    Promedio de combustible: -10%\n",
      "    Primer tanque: 10%\n",
      "    Segundo tanque: -50%\n",
      "    Tercer tanque: 10% \n",
      "\n",
      "    \n"
     ]
    }
   ],
   "source": [
    "# Modificamos la función\n",
    "def combus_ubi(tanque1, tanque2, tanque3):\n",
    "    # Mostramos el informe de combustible llamando a la función de promedio y redondeando\n",
    "    return f\"\"\"Informe de la capacidad de los tanques:\n",
    "    Promedio de combustible: {round(combustible([tanque1, tanque2, tanque3]))}%\n",
    "    Primer tanque: {tanque1}%\n",
    "    Segundo tanque: {tanque2}%\n",
    "    Tercer tanque: {tanque3}% \n",
    "\n",
    "    \"\"\"    \n",
    "# Ingresamos los parametros o argumentos de la función de reporte\n",
    "print(combus_ubi(10, -50, 10))"
   ]
  },
  {
   "cell_type": "markdown",
   "metadata": {},
   "source": [
    "# Ejercicio 2"
   ]
  },
  {
   "cell_type": "code",
   "execution_count": 16,
   "metadata": {},
   "outputs": [
    {
     "name": "stdout",
     "output_type": "stream",
     "text": [
      " informe de la misión:\n",
      "    Prelanzamiento: 20\n",
      "    Tiempo de vuelo: 50\n",
      "    Destino: Luna\n",
      "    Tanque externo: 1000 minutos\n",
      "    Tanque interno: 2000\n",
      "    \n"
     ]
    }
   ],
   "source": [
    "# Creamos la función\n",
    "def informe(prelanzamiento, tim_vuelo, destino, tank_ext, tank_int):\n",
    "    # Retornamos los valores ingresados\n",
    "    return f\"\"\" informe de la misión:\n",
    "    Prelanzamiento: {prelanzamiento}\n",
    "    Tiempo de vuelo: {tim_vuelo}\n",
    "    Destino: {destino}\n",
    "    Tanque externo: {tank_ext} minutos\n",
    "    Tanque interno: {tank_int}\n",
    "    \"\"\"\n",
    "# Mostramos los datos de la misión\n",
    "print(informe(20, 50, 'Luna', 1000, 2000))"
   ]
  },
  {
   "cell_type": "code",
   "execution_count": 22,
   "metadata": {},
   "outputs": [
    {
     "name": "stdout",
     "output_type": "stream",
     "text": [
      " informe de la misión:\n",
      "    Destino: marte minutos\n",
      "    Tiempo estimado: 85\n",
      "    Capacidad de combustible: 30000\n",
      "    \n"
     ]
    }
   ],
   "source": [
    "# Creamos la función\n",
    "def informe( destino, *minutes, **fuel_reservoirs):\n",
    "    return f\"\"\" informe de la misión:\n",
    "    Destino: {destino} minutos\n",
    "    Tiempo estimado: {sum(minutes)}\n",
    "    Capacidad de combustible: {sum(fuel_reservoirs.values())}\n",
    "    \"\"\"\n",
    "# Mostramos los datos de la misión\n",
    "print(informe('marte', 15, 40, 30, first=10000, second=20000))"
   ]
  },
  {
   "cell_type": "code",
   "execution_count": 33,
   "metadata": {},
   "outputs": [
    {
     "name": "stdout",
     "output_type": "stream",
     "text": [
      " informe de la misión:\n",
      "    Destino: Marte minutos\n",
      "    Tiempo estimado: 85\n",
      "    Capacidad de combustible: 30000\n",
      "    inte tank --> 10000 gallons\n",
      "ext tank --> 20000 gallons\n",
      "\n"
     ]
    }
   ],
   "source": [
    "# Creamos la función\n",
    "def informe(destino, *minutes, **fuel_reservoirs):\n",
    "    # Almacenamos en la variable\n",
    "    report = f\"\"\" informe de la misión:\n",
    "    Destino: {destino} minutos\n",
    "    Tiempo estimado: {sum(minutes)}\n",
    "    Capacidad de combustible: {sum(fuel_reservoirs.values())}\n",
    "    \"\"\"\n",
    "    # Creamos dos variables y estraemos los items de la variable fuel_reservoires\n",
    "    for tanque, gallons in fuel_reservoirs.items():\n",
    "        # Guardamos en la variable los elementos\n",
    "        report += f\"{tanque} tank --> {gallons} gallons\\n\"\n",
    "    # Retornamos los valores\n",
    "    return report\n",
    "# Mostramos los datos de la misión\n",
    "print(informe('Marte', 15, 40, 30, inte=10000, ext=20000))"
   ]
  }
 ],
 "metadata": {
  "interpreter": {
   "hash": "230cb2b7102e0dde349b748b58287ccaa8ab1c6a2d1c6cbf6d19f14c344fa4a7"
  },
  "kernelspec": {
   "display_name": "Python 3.8.10 ('base')",
   "language": "python",
   "name": "python3"
  },
  "language_info": {
   "codemirror_mode": {
    "name": "ipython",
    "version": 3
   },
   "file_extension": ".py",
   "mimetype": "text/x-python",
   "name": "python",
   "nbconvert_exporter": "python",
   "pygments_lexer": "ipython3",
   "version": "3.8.10"
  },
  "orig_nbformat": 4
 },
 "nbformat": 4,
 "nbformat_minor": 2
}
