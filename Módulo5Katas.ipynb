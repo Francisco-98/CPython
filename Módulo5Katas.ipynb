{
 "cells": [
  {
   "cell_type": "markdown",
   "metadata": {},
   "source": [
    "# Módulo 7 kata 7"
   ]
  },
  {
   "cell_type": "code",
   "execution_count": 1,
   "metadata": {},
   "outputs": [
    {
     "name": "stdout",
     "output_type": "stream",
     "text": [
      "628949.33\n",
      "390577.53393\n"
     ]
    }
   ],
   "source": [
    "# Ejercicio 1\n",
    "# Se agregan variables con datos definidos\n",
    "tierra = 149597.870\n",
    "jupiter = 778547.200\n",
    "# se crean variables y se almacenan las operaciones\n",
    "distancia = jupiter - tierra\n",
    "millas = distancia * 0.621\n",
    "# Mostramos los resultados\n",
    "print(distancia)\n",
    "print(millas)\n"
   ]
  },
  {
   "cell_type": "code",
   "execution_count": 3,
   "metadata": {},
   "outputs": [
    {
     "name": "stdout",
     "output_type": "stream",
     "text": [
      "-16\n",
      "9.936\n"
     ]
    }
   ],
   "source": [
    "# Ejercicio 2\n",
    "# Se crean dos variables y se almacena lo solicitado al usuario\n",
    "planeta1 = int(input('Ingresa la distancia del primer planeta'))\n",
    "planeta2 = int(input('Ingresa la distancia del segundo planeta'))\n",
    "# Se hace la operación y se almacena en una variable\n",
    "distancia2 = planeta2 - planeta1\n",
    "millas2 = distancia2 * 0.621\n",
    "# Imprimimos el resultado\n",
    "print(distancia2)\n",
    "# Con abs sacamos el módulo por si el resultado es negativo\n",
    "print(abs(millas2))"
   ]
  }
 ],
 "metadata": {
  "interpreter": {
   "hash": "230cb2b7102e0dde349b748b58287ccaa8ab1c6a2d1c6cbf6d19f14c344fa4a7"
  },
  "kernelspec": {
   "display_name": "Python 3.8.10 ('base')",
   "language": "python",
   "name": "python3"
  },
  "language_info": {
   "codemirror_mode": {
    "name": "ipython",
    "version": 3
   },
   "file_extension": ".py",
   "mimetype": "text/x-python",
   "name": "python",
   "nbconvert_exporter": "python",
   "pygments_lexer": "ipython3",
   "version": "3.8.10"
  },
  "orig_nbformat": 4
 },
 "nbformat": 4,
 "nbformat_minor": 2
}
