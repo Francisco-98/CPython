{
 "cells": [
  {
   "cell_type": "markdown",
   "metadata": {},
   "source": [
    "# Ejemplos"
   ]
  },
  {
   "cell_type": "code",
   "execution_count": 2,
   "metadata": {},
   "outputs": [
    {
     "name": "stdout",
     "output_type": "stream",
     "text": [
      "3\n",
      "0\n"
     ]
    }
   ],
   "source": [
    "# Se crea una variable y se define un texto\n",
    "mars_temperature = 'The highest temperature on Mars is about 30 C'\n",
    "# Se inicia un ciclo for con la variable item\n",
    "for item in mars_temperature.split():\n",
    "    # Se comprueba el valor obtenido si es un número\n",
    "    if item.isnumeric():\n",
    "        # Se imprime el resultado de la variable item\n",
    "        print(item)"
   ]
  },
  {
   "cell_type": "markdown",
   "metadata": {},
   "source": [
    "# Identificación de caracter"
   ]
  },
  {
   "cell_type": "code",
   "execution_count": 3,
   "metadata": {},
   "outputs": [
    {
     "data": {
      "text/plain": [
       "False"
      ]
     },
     "execution_count": 3,
     "metadata": {},
     "output_type": "execute_result"
    }
   ],
   "source": [
    "# Se analiza que en la cadena contenga un caracter indicado al comienzo y si lo contiene arroja true \n",
    "'-60'.startswith('-')"
   ]
  },
  {
   "cell_type": "code",
   "execution_count": 21,
   "metadata": {},
   "outputs": [
    {
     "name": "stdout",
     "output_type": "stream",
     "text": [
      "This temperature is in Celsius\n"
     ]
    }
   ],
   "source": [
    "# con la condición y la función .endswith comprobamos si tiene un caracter definido al final \n",
    "if \"30 C\".endswith(\"C\"):\n",
    "    # Imprime una leyenda\n",
    "    print(\"This temperature is in Celsius\")\n"
   ]
  },
  {
   "cell_type": "markdown",
   "metadata": {},
   "source": [
    "# Join"
   ]
  },
  {
   "cell_type": "code",
   "execution_count": 5,
   "metadata": {},
   "outputs": [
    {
     "data": {
      "text/plain": [
       "'The Moon is drifting away from the Earth. On average, the Moon is moving about 4cm every year'"
      ]
     },
     "execution_count": 5,
     "metadata": {},
     "output_type": "execute_result"
    }
   ],
   "source": [
    "# Creamos una cadena de texto\n",
    "moon_facts = ['The Moon is drifting away from the Earth.', 'On average, the Moon is moving about 4cm every year']\n",
    "# Con la utilización del join, podemos unir la cadena \n",
    "' '.join(moon_facts)"
   ]
  },
  {
   "cell_type": "markdown",
   "metadata": {},
   "source": [
    "# Cambio de texto"
   ]
  },
  {
   "cell_type": "code",
   "execution_count": 32,
   "metadata": {},
   "outputs": [
    {
     "name": "stdout",
     "output_type": "stream",
     "text": [
      "On the Moon, you would weigh about 1/5 of your weight on Earth\n"
     ]
    }
   ],
   "source": [
    "# Creamos la variable con un valor definido\n",
    "mass_percentage = '1/6'\n",
    "# Con %s y al final de la cadena % mass_percentage se añade el valor de mass_percentage a %s\n",
    "print('On the Moon, you would weigh about %s of your weight on Earth' % mass_percentage)"
   ]
  },
  {
   "cell_type": "code",
   "execution_count": 25,
   "metadata": {},
   "outputs": [
    {
     "name": "stdout",
     "output_type": "stream",
     "text": [
      "Both sides of the Moon get the same amount of sunlight,\n",
      "    but only one side is seen from Earth because\n",
      "    the Moon rotates around its own axis when it orbits Earth.\n"
     ]
    }
   ],
   "source": [
    "print(\"\"\"Both sides of the %s get the same amount of sunlight,\n",
    "    but only one side is seen from %s because\n",
    "    the %s rotates around its own axis when it orbits %s.\"\"\" % ('Moon', 'Earth', 'Moon', 'Earth'))"
   ]
  },
  {
   "cell_type": "markdown",
   "metadata": {},
   "source": [
    "# Format"
   ]
  },
  {
   "cell_type": "code",
   "execution_count": 35,
   "metadata": {},
   "outputs": [
    {
     "name": "stdout",
     "output_type": "stream",
     "text": [
      "You are lighter on the Moon, because on the Moon \n",
      "you would weigh about 1/5 of your weight on Earth\n"
     ]
    }
   ],
   "source": [
    "# Modificamos el texto con la utilización de .format(), definiendo en 0 en donde se agregará Moon y para 1 lo que se guara en la variable\n",
    "print(\"\"\"You are lighter on the {0}, because on the {0} \n",
    "... you would weigh about {1} of your weight on Earth\"\"\".format(\"Moon\", mass_percentage))"
   ]
  },
  {
   "cell_type": "code",
   "execution_count": 33,
   "metadata": {},
   "outputs": [
    {
     "name": "stdout",
     "output_type": "stream",
     "text": [
      "You are lighter on the Moon, because on the Moon \n",
      "you would weigh about 1/5 of your weight on Earth\n"
     ]
    }
   ],
   "source": [
    "# En lugar de utilizar números se pueden guardar los datos que se agregaran en una variable\n",
    "print(\"\"\"You are lighter on the {moon}, because on the {moon} \n",
    "... you would weigh about {mass} of your weight on Earth\"\"\".format(moon=\"Moon\", mass=mass_percentage))"
   ]
  },
  {
   "cell_type": "code",
   "execution_count": 34,
   "metadata": {},
   "outputs": [
    {
     "name": "stdout",
     "output_type": "stream",
     "text": [
      "On the Moon, you would weigh about 1/5 of your weight on Earth\n"
     ]
    }
   ],
   "source": [
    "# Se puede agregar el valor de una variable utilizando {} y adentro la variable en donde se almacena el valor\n",
    "print(f'On the Moon, you would weigh about {mass_percentage} of your weight on Earth')"
   ]
  },
  {
   "cell_type": "markdown",
   "metadata": {},
   "source": [
    "# f-strings"
   ]
  },
  {
   "cell_type": "code",
   "execution_count": 36,
   "metadata": {},
   "outputs": [
    {
     "name": "stdout",
     "output_type": "stream",
     "text": [
      "On the Moon, you would weigh about 16.7% of your weight on Earth\n"
     ]
    }
   ],
   "source": [
    "# En un texto agregamos un valor, hacindo la operación \n",
    "print(f'On the Moon, you would weigh about {round(100/6, 1)}% of your weight on Earth')"
   ]
  },
  {
   "cell_type": "code",
   "execution_count": 37,
   "metadata": {},
   "outputs": [
    {
     "data": {
      "text/plain": [
       "'Interesting Facts About The Moon'"
      ]
     },
     "execution_count": 37,
     "metadata": {},
     "output_type": "execute_result"
    }
   ],
   "source": [
    "# Para mostrar el texto con más formato, se agrega el .tittle, el cual cambiara las iniales por mayuscula de cada palabra\n",
    "subject = 'interesting facts about the moon'\n",
    "f'{subject.title()}'"
   ]
  },
  {
   "cell_type": "markdown",
   "metadata": {},
   "source": [
    "# Módulo 4 Kata 4"
   ]
  },
  {
   "cell_type": "code",
   "execution_count": 28,
   "metadata": {},
   "outputs": [
    {
     "name": "stdout",
     "output_type": "stream",
     "text": [
      "\n",
      "On average, the Moon moves 4cm away from the Earth every year\n",
      " The highest daylight temperature of the Moon is 127 C\n",
      "\n",
      "On average, the Moon moves 4cm away from the Earth every year\n",
      " The highest daylight temperature of the Moon is 127 Celsius\n"
     ]
    }
   ],
   "source": [
    "# en una variable almacenamos un texto\n",
    "text = \"\"\"Interesting facts about the Moon. The Moon is Earth's only satellite. There are several interesting facts about the Moon and how it affects life here on Earth.\n",
    "On average, the Moon moves 4cm away from the Earth every year. This yearly drift is not significant enough to cause immediate effects on Earth. The highest daylight temperature of the Moon is 127 C.\"\"\"\n",
    "# Creamos otra variable y guardamos el resultado de la operación realizada, se utiliza .split('.') para que en cada punto de un salto de linea\n",
    "text_parts = text.split('.')\n",
    "# Mostramos el resultado\n",
    "text_parts\n",
    "# en una variable almacenamos los siguientes datos\n",
    "clave = {'average', 'temperature', 'distance'}\n",
    "# Iniciamos el ciclo for creando una variable sentence \n",
    "for sentence in text_parts:\n",
    "    # Anidamos con otro for y creamos la variable key_word\n",
    "    for key_word in clave: \n",
    "        # La condición key_word se encuentra en sentence\n",
    "        if key_word in sentence:\n",
    "            # Se imprime lo almacenado en sentence\n",
    "            print(sentence)\n",
    "# Iniciamos un for anidado con los mismos datos del anterior\n",
    "for sentence in text_parts:\n",
    "    for key_word in clave:\n",
    "        if key_word in sentence:\n",
    "            # Si en el texto de sentence se encuentra una C, se cambiara por Celsius\n",
    "            print(sentence.replace('C', 'Celsius'))"
   ]
  },
  {
   "cell_type": "code",
   "execution_count": 6,
   "metadata": {},
   "outputs": [
    {
     "name": "stdout",
     "output_type": "stream",
     "text": [
      "Moon\n",
      "--------------------------------------------------\n",
      "Planeta: Earth\n",
      "Gravedad: 1.6199999999999999 m/s2\n",
      "\n",
      "\n",
      "Datos sobre: Ganímedes\n",
      "--------------------------------------------------\n",
      "Planeta: Marte \n",
      "gravedad: 1.4300000000000002 m/s2\n",
      "\n"
     ]
    }
   ],
   "source": [
    "# Agregamos las variables\n",
    "name = \"moon\"\n",
    "gravity = 0.00162 # in kms\n",
    "planet = \"Earth\"\n",
    "# En titulo se almacenara el name\n",
    "titulo = f'{name}'\n",
    "# Se muestra el texto y para dar formato se agrego una linea con -, se agregaron los demás datos. \n",
    "multiline = f\"\"\"{'-' * 50}\n",
    "Planeta: {planet}\n",
    "Gravedad: {gravity * 1000} m/s2\n",
    "\"\"\"\n",
    "# Se da formato al titulo y se muestran los datos\n",
    "plantilla = f\"\"\"{titulo.title()}\n",
    "{multiline}\"\"\"\n",
    "# Se agregan variables con otros datos\n",
    "planet = 'Marte '\n",
    "gravity  = 0.00143\n",
    "titulo = 'ganímedes' \n",
    "# Mostramos la plantilla\n",
    "print(plantilla)\n",
    "# Se hace un cambio de datos remplazando los anteriores\n",
    "marte = \"\"\"\n",
    "Datos sobre: {titulo}\n",
    "--------------------------------------------------\n",
    "Planeta: {planet}\n",
    "gravedad: {gravity} m/s2\n",
    "\"\"\"\n",
    "print(marte.format(titulo=titulo.title(), planet=planet, gravity=gravity*1000))\n",
    "\n",
    "\n",
    "\n"
   ]
  }
 ],
 "metadata": {
  "interpreter": {
   "hash": "230cb2b7102e0dde349b748b58287ccaa8ab1c6a2d1c6cbf6d19f14c344fa4a7"
  },
  "kernelspec": {
   "display_name": "Python 3.8.10 ('base')",
   "language": "python",
   "name": "python3"
  },
  "language_info": {
   "codemirror_mode": {
    "name": "ipython",
    "version": 3
   },
   "file_extension": ".py",
   "mimetype": "text/x-python",
   "name": "python",
   "nbconvert_exporter": "python",
   "pygments_lexer": "ipython3",
   "version": "3.8.10"
  },
  "orig_nbformat": 4
 },
 "nbformat": 4,
 "nbformat_minor": 2
}
