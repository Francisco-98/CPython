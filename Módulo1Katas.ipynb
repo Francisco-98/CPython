{
 "cells": [
  {
   "cell_type": "markdown",
   "metadata": {},
   "source": [
    "# Módulo 1 Kata 1"
   ]
  },
  {
   "cell_type": "code",
   "execution_count": 2,
   "metadata": {},
   "outputs": [
    {
     "name": "stdout",
     "output_type": "stream",
     "text": [
      "Today's date is: 2022-02-08\n"
     ]
    }
   ],
   "source": [
    "# Ejercicio 1\n",
    "# Importamos de la biblioteca\n",
    "from datetime import date\n",
    "# Mostramos la fecha\n",
    "print(\"Today's date is: \" + str(date.today()))"
   ]
  },
  {
   "cell_type": "code",
   "execution_count": 5,
   "metadata": {},
   "outputs": [
    {
     "name": "stdout",
     "output_type": "stream",
     "text": [
      "11 parsec, is 35.877159999999996 lightyears\n"
     ]
    }
   ],
   "source": [
    "# Ejercicio 2\n",
    "# Declaramos la variable\n",
    "parsec = 11\n",
    "# Creamos una variable y almacenamos el resultado de la operación\n",
    "lightyears = parsec * 3.26156\n",
    "# Mostramos el resultado\n",
    "print(str(parsec) + \" parsec, is \" + str(lightyears) + \" lightyears\")"
   ]
  }
 ],
 "metadata": {
  "interpreter": {
   "hash": "230cb2b7102e0dde349b748b58287ccaa8ab1c6a2d1c6cbf6d19f14c344fa4a7"
  },
  "kernelspec": {
   "display_name": "Python 3.8.10 32-bit ('base': conda)",
   "name": "python3"
  },
  "language_info": {
   "codemirror_mode": {
    "name": "ipython",
    "version": 3
   },
   "file_extension": ".py",
   "mimetype": "text/x-python",
   "name": "python",
   "nbconvert_exporter": "python",
   "pygments_lexer": "ipython3",
   "version": "3.8.10"
  },
  "orig_nbformat": 4
 },
 "nbformat": 4,
 "nbformat_minor": 2
}
