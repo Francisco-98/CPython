{
 "cells": [
  {
   "cell_type": "markdown",
   "metadata": {},
   "source": [
    "# Diccionario en Python"
   ]
  },
  {
   "cell_type": "code",
   "execution_count": 11,
   "metadata": {},
   "outputs": [
    {
     "name": "stdout",
     "output_type": "stream",
     "text": [
      "Mars tiene 2 lunas\n",
      "Mars tiene una circunferencia polar de: 6752\n"
     ]
    }
   ],
   "source": [
    "# Ejercicio 1\n",
    "# Creamos el diccionario y agregamos las variables\n",
    "planet = {\n",
    "    'name': 'Mars',\n",
    "    'moons': 2\n",
    "}\n",
    "# imprimimos el nombre del planeta y la cantidad de lunas\n",
    "print(f'{planet[\"name\"]} tiene {planet[\"moons\"]} lunas')\n",
    "# Agregamos 2 variables al diccionario\n",
    "planet['Circunferencia'] = {\n",
    "    'polar': 6752,\n",
    "    'equatorial': 6792\n",
    "}\n",
    "# Imprimimos el nombre del planeta y la circunferencia polar\n",
    "print(f'{planet[\"name\"]} tiene una circunferencia polar de: {planet[\"Circunferencia\"][\"polar\"]}')"
   ]
  },
  {
   "cell_type": "code",
   "execution_count": 19,
   "metadata": {},
   "outputs": [
    {
     "name": "stdout",
     "output_type": "stream",
     "text": [
      "El total de lunas es: 214\n",
      "El promedio de lunas por planeta es: 17.833333333333332\n"
     ]
    }
   ],
   "source": [
    "# Ejercicio 2\n",
    "# Planets and moons\n",
    "planet_moons = {\n",
    "    'mercury': 0,\n",
    "    'venus': 0,\n",
    "    'earth': 1,\n",
    "    'mars': 2,\n",
    "    'jupiter': 79,\n",
    "    'saturn': 82,\n",
    "    'uranus': 27,\n",
    "    'neptune': 14,\n",
    "    'pluto': 5,\n",
    "    'haumea': 2,\n",
    "    'makemake': 1,\n",
    "    'eris': 1\n",
    "}\n",
    "# Encontramos el número de lunas\n",
    "moons = planet_moons.values()\n",
    "# Encontramos la cantidad de los planetas\n",
    "planets = len(planet_moons.keys())\n",
    "# Calculamos el total de las lunas\n",
    "total_moons = 0\n",
    "for moon in moons:\n",
    "    total_moons = total_moons + moon\n",
    "# Calculamos el promedio de lunas\n",
    "prom = total_moons / planets\n",
    "# Mostramos los datos obtenidosy el promedio\n",
    "print(\"El total de lunas es: \" + str(total_moons))\n",
    "print('El promedio de lunas por planeta es: ' + str(prom))\n"
   ]
  }
 ],
 "metadata": {
  "interpreter": {
   "hash": "230cb2b7102e0dde349b748b58287ccaa8ab1c6a2d1c6cbf6d19f14c344fa4a7"
  },
  "kernelspec": {
   "display_name": "Python 3.8.10 ('base')",
   "language": "python",
   "name": "python3"
  },
  "language_info": {
   "codemirror_mode": {
    "name": "ipython",
    "version": 3
   },
   "file_extension": ".py",
   "mimetype": "text/x-python",
   "name": "python",
   "nbconvert_exporter": "python",
   "pygments_lexer": "ipython3",
   "version": "3.8.10"
  },
  "orig_nbformat": 4
 },
 "nbformat": 4,
 "nbformat_minor": 2
}
